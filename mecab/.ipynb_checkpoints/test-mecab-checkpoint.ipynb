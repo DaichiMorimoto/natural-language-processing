{
 "cells": [
  {
   "cell_type": "markdown",
   "metadata": {},
   "source": [
    "# My Notebook (MeCab) "
   ]
  },
  {
   "cell_type": "code",
   "execution_count": 1,
   "metadata": {},
   "outputs": [],
   "source": [
    "import MeCab"
   ]
  },
  {
   "cell_type": "markdown",
   "metadata": {},
   "source": [
    "MeCab が無事インストールできました。めでたしめでたし。"
   ]
  },
  {
   "cell_type": "code",
   "execution_count": 6,
   "metadata": {},
   "outputs": [],
   "source": [
    "tagger = MeCab.Tagger('') # dir(MeCab) "
   ]
  },
  {
   "cell_type": "code",
   "execution_count": 8,
   "metadata": {},
   "outputs": [
    {
     "name": "stdout",
     "output_type": "stream",
     "text": [
      "この\t連体詞,*,*,*,*,*,この,コノ,コノ\n",
      "コード\t名詞,一般,*,*,*,*,コード,コード,コード\n",
      "が\t助詞,格助詞,一般,*,*,*,が,ガ,ガ\n",
      "実行\t名詞,サ変接続,*,*,*,*,実行,ジッコウ,ジッコー\n",
      "さ\t動詞,自立,*,*,サ変・スル,未然レル接続,する,サ,サ\n",
      "れれ\t動詞,接尾,*,*,一段,仮定形,れる,レレ,レレ\n",
      "ば\t助詞,接続助詞,*,*,*,*,ば,バ,バ\n",
      "、\t記号,読点,*,*,*,*,、,、,、\n",
      "あなた\t名詞,代名詞,一般,*,*,*,あなた,アナタ,アナタ\n",
      "も\t助詞,係助詞,*,*,*,*,も,モ,モ\n",
      "自然\t名詞,形容動詞語幹,*,*,*,*,自然,シゼン,シゼン\n",
      "言語\t名詞,一般,*,*,*,*,言語,ゲンゴ,ゲンゴ\n",
      "処理\t名詞,サ変接続,*,*,*,*,処理,ショリ,ショリ\n",
      "の\t助詞,連体化,*,*,*,*,の,ノ,ノ\n",
      "仲間\t名詞,一般,*,*,*,*,仲間,ナカマ,ナカマ\n",
      "です\t助動詞,*,*,*,特殊・デス,基本形,です,デス,デス\n",
      "。\t記号,句点,*,*,*,*,。,。,。\n",
      "EOS\n",
      "\n"
     ]
    }
   ],
   "source": [
    "print(tagger.parse('このコードが実行されれば、あなたも自然言語処理の仲間です。 '))"
   ]
  }
 ],
 "metadata": {
  "kernelspec": {
   "display_name": "Python 3",
   "language": "python",
   "name": "python3"
  },
  "language_info": {
   "codemirror_mode": {
    "name": "ipython",
    "version": 3
   },
   "file_extension": ".py",
   "mimetype": "text/x-python",
   "name": "python",
   "nbconvert_exporter": "python",
   "pygments_lexer": "ipython3",
   "version": "3.7.2"
  }
 },
 "nbformat": 4,
 "nbformat_minor": 2
}
